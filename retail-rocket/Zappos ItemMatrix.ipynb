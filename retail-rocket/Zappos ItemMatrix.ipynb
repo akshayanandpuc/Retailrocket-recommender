{
 "cells": [
  {
   "cell_type": "code",
   "execution_count": 1,
   "metadata": {
    "ExecuteTime": {
     "end_time": "2017-09-10T20:38:29.736284Z",
     "start_time": "2017-09-10T16:38:22.736790-04:00"
    },
    "collapsed": true
   },
   "outputs": [],
   "source": [
    "# This Python 3 environment comes with many helpful analytics libraries installed\n",
    "# It is defined by the kaggle/python docker image: https://github.com/kaggle/docker-python\n",
    "# For example, here's several helpful packages to load in \n",
    "\n",
    "import numpy as np # linear algebra\n",
    "import pandas as pd # data processing, CSV file I/O (e.g. pd.read_csv)\n",
    "import scipy.sparse as sp\n",
    "from scipy.sparse import vstack\n",
    "from scipy import sparse\n",
    "from scipy.sparse.linalg import spsolve\n",
    "import implicit\n",
    "\n",
    "# Input data files are available in the \"../input/\" directory.\n",
    "# For example, running this (by clicking run or pressing Shift+Enter) will list the files in the input directory\n",
    "\n",
    "from subprocess import check_output\n",
    "from sklearn.model_selection import train_test_split\n",
    "#print(check_output([\"ls\", \"../input\"]).decode(\"utf8\"))\n",
    "\n",
    "# Any results you write to the current directory are saved as output."
   ]
  },
  {
   "cell_type": "code",
   "execution_count": null,
   "metadata": {
    "ExecuteTime": {
     "start_time": "2017-09-10T20:38:23.925Z"
    },
    "collapsed": true
   },
   "outputs": [],
   "source": [
    "events = pd.read_csv('../input/events.csv')\n",
    "category_tree = pd.read_csv('../input/category_tree.csv')\n",
    "items1 = pd.read_csv('../input/item_properties_part1.csv')\n",
    "items2 = pd.read_csv('../input/item_properties_part2.csv')\n",
    "items = pd.concat([items1, items2])"
   ]
  },
  {
   "cell_type": "markdown",
   "metadata": {},
   "source": [
    "# Construct Zappos Item Feature matrix"
   ]
  },
  {
   "cell_type": "code",
   "execution_count": null,
   "metadata": {
    "ExecuteTime": {
     "start_time": "2017-09-10T20:38:25.678Z"
    },
    "collapsed": true
   },
   "outputs": [],
   "source": [
    "filtered_items = items.sort_values('timestamp', ascending=False).drop_duplicates(['itemid','property'])\n",
    "filtered_items.sort_values(by='itemid', inplace=True)\n",
    "item_to_property_matrix = filtered_items.pivot(index='itemid', columns='property', values='value')\n",
    "useful_cols = list()\n",
    "cols = item_to_property_matrix.columns\n",
    "for col in cols:\n",
    "    value = len(item_to_property_matrix[col].value_counts())\n",
    "    if value < 50:\n",
    "        useful_cols.insert(0, col)"
   ]
  },
  {
   "cell_type": "code",
   "execution_count": null,
   "metadata": {
    "ExecuteTime": {
     "start_time": "2017-09-10T20:38:27.030Z"
    },
    "collapsed": true
   },
   "outputs": [],
   "source": [
    "item_to_property_matrix = item_to_property_matrix[useful_cols]\n",
    "item_to_property_matrix_one_hot_sparse = pd.get_dummies(item_to_property_matrix,  sparse=True )"
   ]
  },
  {
   "cell_type": "code",
   "execution_count": null,
   "metadata": {
    "ExecuteTime": {
     "start_time": "2017-09-10T20:39:02.761Z"
    },
    "collapsed": true
   },
   "outputs": [],
   "source": [
    "item_to_property_matrix_one_hot_sparse.to_csv('item_to_property_matrix_one_hot_sparse.csv')"
   ]
  },
  {
   "cell_type": "code",
   "execution_count": 11,
   "metadata": {
    "ExecuteTime": {
     "end_time": "2017-09-10T18:07:15.884046Z",
     "start_time": "2017-09-10T14:07:15.879830-04:00"
    },
    "collapsed": false
   },
   "outputs": [],
   "source": [
    "# 1. remove timestamps.\n",
    "# 2. only latest property value for an item.\n",
    "# 3. index propertyid and values will be per property!\n",
    "# 4. one hot encode properties"
   ]
  }
 ],
 "metadata": {
  "hide_input": false,
  "kernelspec": {
   "display_name": "coding-env",
   "language": "python",
   "name": "gl-env"
  },
  "language_info": {
   "codemirror_mode": {
    "name": "ipython",
    "version": 2
   },
   "file_extension": ".py",
   "mimetype": "text/x-python",
   "name": "python",
   "nbconvert_exporter": "python",
   "pygments_lexer": "ipython2",
   "version": "2.7.13"
  }
 },
 "nbformat": 4,
 "nbformat_minor": 2
}
